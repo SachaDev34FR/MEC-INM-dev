{
 "cells": [
  {
   "cell_type": "code",
   "execution_count": 2,
   "metadata": {},
   "outputs": [],
   "source": [
    "from Bio import Entrez\n",
    "from Bio import Medline\n",
    "from loguru import logger\n",
    "import sys\n",
    "import datetime\n",
    "import json\n",
    "\n",
    "import src.esearch_pubmed as pub\n",
    "import src.constants as ct\n",
    "\n",
    "ct.input_credentials()\n",
    "terms=\"green tea AND neoplasms\""
   ]
  },
  {
   "cell_type": "code",
   "execution_count": 4,
   "metadata": {},
   "outputs": [
    {
     "name": "stderr",
     "output_type": "stream",
     "text": [
      "\u001b[32m2023-10-15 16:36:43.934\u001b[0m | \u001b[1mINFO    \u001b[0m | \u001b[36msrc.esearch_pubmed\u001b[0m:\u001b[36mesearch_dataset\u001b[0m:\u001b[36m31\u001b[0m - \u001b[1mResults found : 4385\u001b[0m\n"
     ]
    }
   ],
   "source": [
    "liste_ids = pub.esearch_dataset(terms)"
   ]
  },
  {
   "cell_type": "code",
   "execution_count": 5,
   "metadata": {},
   "outputs": [],
   "source": [
    "handle = Entrez.efetch(db=ct.DB, id=liste_ids, rettype=\"Medline\", retmode=\"text\")\n",
    "records = Medline.parse(handle)"
   ]
  },
  {
   "cell_type": "code",
   "execution_count": 6,
   "metadata": {},
   "outputs": [
    {
     "name": "stdout",
     "output_type": "stream",
     "text": [
      "<class 'generator'>\n"
     ]
    }
   ],
   "source": [
    "print(type(records))"
   ]
  },
  {
   "cell_type": "code",
   "execution_count": 8,
   "metadata": {},
   "outputs": [
    {
     "name": "stdout",
     "output_type": "stream",
     "text": [
      "<generator object parse at 0x7fac62d3e790>\n"
     ]
    }
   ],
   "source": [
    "print(records)"
   ]
  },
  {
   "cell_type": "code",
   "execution_count": 10,
   "metadata": {},
   "outputs": [],
   "source": [
    "for record in records:\n",
    "    print(record.keys())"
   ]
  },
  {
   "cell_type": "code",
   "execution_count": null,
   "metadata": {},
   "outputs": [],
   "source": [
    "{'PMID': '37814323', 'OWN': 'NLM', 'STAT': 'MEDLINE',\n",
    " 'DCOM': '20231011', 'LR': '20231012',\n",
    " 'IS': '1479-5876 (Electronic) 1479-5876 (Linking)',\n",
    " 'VI': '21', 'IP': '1', 'DP': '2023 Oct 9', \n",
    " 'TI': 'Fusobacterium nucleatum upregulates MMP7 to promote metastasis-related characteristics of colorectal cancer cell via activating MAPK(JNK)-AP1 axis.', 'PG': '704', 'LID': '10.1186/s12967-023-04527-3 [doi] 704', 'AB': 'BACKGROUND: Colorectal cancer (CRC) is the third most common malignant tumor. Fusobacterium nucleatum (F. nucleatum) \n",
    " 'is overabundant in CRC and associated with metastasis, but the role of F. nucleatum in CRC cell migration and metastasis has not been fully elucidated. METHODS: Differential gene analysis, protein-protein interaction, robust rank aggregation analysis, functional enrichment analysis, and gene set variation analysis were used to figure out the potential vital genes and biological functions affected by F. nucleatum infection. The 16S rDNA sequencing and q-PCR were used to detect the abundance of F. nucleatum in tissues and stools. Then, we assessed the effect of F. nucleatum on CRC cell migration by wound healing and transwell assays, and confirmed \n",
    " the role of Matrix metalloproteinase 7 (MMP7) induced by F. nucleatum in cell migration.\n",
    " Furthermore, we dissected the mechanisms involved in F. nucleatum induced MMP7 expression.\n",
    " We also investigated the MMP7 expression in clinical samples and its correlation with prognosi\n",
    " in CRC patients. Finally, we screened out potential small molecular drugs that targeted MMP7 using the HERB \n",
    " database and molecular docking. RESULTS: F. nucleatum infection altered the gene expression profile and affected immune response, \n",
    " inflammation, biosynthesis, metabolism, adhesion and motility related biological functions in CRC. F. nucleatum was enriched in CRC \n",
    " and promoted the migration of CRC cell by upregulating MMP7 in vitro. MMP7 expression induced by F. nucleatum infection was mediated\n",
    " by the MAPK(JNK)-AP1 axis. MMP7 was highly expressed in CRC and correlated with CMS4 and poor clinical prognosis. Small molecular \n",
    " drugs such as delta-tocotrienol, 3,4-benzopyrene, tea polyphenols, and gallic catechin served as potential targeted therapeutic drugs \n",
    " for F. nucleatum induced MMP7 in CRC. CONCLUSIONS: Our study showed that F. nucleatum promoted metastasis-related characteristics of \n",
    " CRC cell by upregulating MMP7 via MAPK(JNK)-AP1 axis. F. nucleatum and MMP7 may serve as potential therapeutic targets for repressing \n",
    " CRC advance and metastasis.',\n",
    " 'CI': ['(c) 2023. BioMed Central Ltd., part of Springer Nature.'],\n",
    " 'FAU': ['Ou, Suwen', 'Chen, Haipeng', 'Wang, Hufei', 'Ye, Jinhua', 'Liu, Huidi', 'Tao, Yangbao', 'Ran, Songlin', 'Mu, Xiaoqin', 'Liu, Fangzhou', 'Zhu, Shuang', 'Luo, Kangjia', 'Guan, Zilong', 'Jin, Yinghu', 'Huang, Rui', 'Song, Yanni', 'Liu, Shu-Lin'], \n",
    " 'AU': ['Ou S', 'Chen H', 'Wang H', 'Ye J', 'Liu H', 'Tao Y', 'Ran S', 'Mu X', 'Liu F', 'Zhu S', 'Luo K', 'Guan Z', 'Jin Y', 'Huang R', 'Song Y', 'Liu SL'], \n",
    " 'AUID': ['ORCID: 0000-0002-5540-2192'], 'AD': ['Department of Colorectal Surgery, The Second Affiliated Hospital of Harbin Medical University, Harbin, 150081, China.', \n",
    " 'Department of Pancreatic and Biliary Surgery, The First Affiliated Hospital of Harbin Medical University, Harbin, 150001, China.', 'Department of Colorectal Surgery, National Clinical Research Center of Cancer/Cancer Hospital, National Cancer Center, Chinese Academy of Medical Sciences and Peking Union Medical College, Beijing, 100021, China.', \n",
    " 'Department of Colorectal Surgery, The Second Affiliated Hospital of Harbin Medical University, Harbin, 150081, China.',\n",
    " 'Department of Colorectal Surgery, The Second Affiliated Hospital of Harbin Medical University, Harbin, 150081, China.',\n",
    " 'Genomics Research Center (Key Laboratory of Gut Microbiota and Pharmacogenomics of Heilongjiang Province), College of Pharmacy, Harbin Medical University, Harbin, 150081, China.', \n",
    " 'Cumming School of Medicine Centre for Infection and Genomics, Harbin Medical University-University of Calgary, Harbin Medical University, Harbin, 150081, China.',\n",
    " 'Department of Colorectal Surgery, The Second Affiliated Hospital of Harbin Medical University, Harbin, 150081, China.', \n",
    " 'Department of Colorectal Surgery, The Second Affiliated Hospital of Harbin Medical University, Harbin, 150081, China.', \n",
    " 'Genomics Research Center (Key Laboratory of Gut Microbiota and Pharmacogenomics of Heilongjiang Province), College of Pharmacy, Harbin Medical University, Harbin, 150081, China.', \n",
    " 'Cumming School of Medicine Centre for Infection and Genomics, Harbin Medical University-University of Calgary, Harbin Medical University, Harbin, 150081, China.', \n",
    " 'Department of Colorectal Surgery, The Second Affiliated Hospital of Harbin Medical University, Harbin, 150081, China.',\n",
    " 'Department of Colorectal Surgery, The Second Affiliated Hospital of Harbin Medical University, Harbin, 150081, China.', \n",
    " 'Department of Colorectal Surgery, The Second Affiliated Hospital of Harbin Medical University, Harbin, 150081, China.',\n",
    " 'Department of Gastrointestinal Surgery, The Affiliated Hospital of Medical School of Ningbo University, Ningbo, 315020, China.', \n",
    " 'Department of Colorectal Surgery, The Second Affiliated Hospital of Harbin Medical University, Harbin, 150081, China.', \n",
    " 'Department of General Surgery, The Fourth Affiliated Hospital of Harbin Medical University, Harbin, 150000, China.', \n",
    " 'Department of Colorectal Surgery, The Second Affiliated Hospital of Harbin Medical University, Harbin, 150081, China.', \n",
    " 'Department of Colorectal Surgery, The Second Affiliated Hospital of Harbin Medical University, Harbin, 150081, China. huangrui2019@163.com.',\n",
    " 'Department of Breast Surgery, Harbin Medical University Cancer Hospital, Harbin, 150081, China. yannimd@126.com.', \n",
    " 'Genomics Research Center (Key Laboratory of Gut Microbiota and Pharmacogenomics of Heilongjiang Province), \n",
    " College of Pharmacy, Harbin Medical University, Harbin, 150081, China. slliu@hrbmu.edu.cn.', \n",
    " 'Cumming School of Medicine Centre for Infection and Genomics, Harbin Medical University-University of Calgary, Harbin Medical University, Harbin, 150081, China. slliu@hrbmu.edu.cn.', \n",
    " 'Department of Microbiology, Immunology and Infectious Diseases, University of Calgary, Calgary, AB, T2N 4N1, Canada. slliu@hrbmu.edu.cn.'],\n",
    " 'LA': ['eng'], \n",
    " 'GR': ['81872034/National Natural Science Foundation of China/', 'H2017016/Natural Science Foundation of Heilongjiang Province/', 'LH2020H120/Heilongjiang Natural Science Foundation of China/', 'JJZD2020-04/Haiyan Research Fund of Harbin Medical University Cancer Hospital/', '320.6750.19092-41/Wu Jieping Medical Foundation/', 'CXPJJH12000002-2020025/Chen Xiao-ping Foundation for The Development of Science', 'and Technology of Hubei Province/', '2018249/Scientific Research Foundation of Heilongjiang Provincial Health and', 'Family Planning Commission/', 'MDK2022-1001/Beijing Medical Foundation/'], \n",
    " 'PT': ['Journal Article'],\n",
    " 'DEP': '20231009', \n",
    " 'PL': 'England', \n",
    " 'TA': 'J Transl Med',\n",
    " 'JT': 'Journal of translational medicine', \n",
    " 'JID': '101190741', 'RN': ['EC 3.4.24.23 (Matrix Metalloproteinase 7)', \n",
    " 'EC 3.4.24.23 (MMP7 protein, human)'],\n",
    " 'SB': \n",
    " 'IM', \n",
    " 'MH': ['Humans', 'Fusobacterium nucleatum/genetics', 'Matrix Metalloproteinase 7/genetics', '*Colorectal Neoplasms/pathology', 'Molecular Docking Simulation', '*Fusobacterium Infections/complications/diagnosis/microbiology'], \n",
    " 'PMC': 'PMC10561506', \n",
    " 'OTO': ['NOTNLM'], \n",
    " 'OT': ['Colorectal cancer', 'Fusobacterium nucleatum', 'Matrix metalloproteinase 7', 'Migration'], \n",
    " 'COIS': ['The authors report no conflict of interest.'],\n",
    " 'EDAT': '2023/10/10 00:41', 'MHDA': '2023/10/11 12:41', \n",
    " 'CRDT': ['2023/10/09 23:49'],\n",
    " 'PHST': ['2023/02/26 00:00 [received]', '2023/09/15 00:00 [accepted]', '2023/10/11 12:41 [medline]', '2023/10/10 00:41 [pubmed]', '2023/10/09 23:49 [entrez]'],\n",
    " 'AID': ['10.1186/s12967-023-04527-3 [pii]', '4527 [pii]', '10.1186/s12967-023-04527-3 [doi]'], \n",
    " 'PST': 'epublish', 'SO': 'J Transl Med. 2023 Oct 9;21(1):704. doi: 10.1186/s12967-023-04527-3.'\n",
    " }\n"
   ]
  }
 ],
 "metadata": {
  "kernelspec": {
   "display_name": "Python 3",
   "language": "python",
   "name": "python3"
  },
  "language_info": {
   "codemirror_mode": {
    "name": "ipython",
    "version": 3
   },
   "file_extension": ".py",
   "mimetype": "text/x-python",
   "name": "python",
   "nbconvert_exporter": "python",
   "pygments_lexer": "ipython3",
   "version": "3.11.5"
  }
 },
 "nbformat": 4,
 "nbformat_minor": 2
}
